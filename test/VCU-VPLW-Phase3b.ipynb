{
 "cells": [
  {
   "cell_type": "markdown",
   "id": "791e1e39",
   "metadata": {
    "deletable": false,
    "editable": false
   },
   "source": [
    "![VCU](media/VCU_logo.png \"VCU\")\n",
    "\n",
    "## VCU Virtual Pharmacology Lab Worksheet. II. Drug Interactions\n",
    "\n",
    "This module generates simulated dose-effect curves resulting from the combination of two ligands here called Drug A and Drug B (either two different drugs, or a drug in combination with basal tone for an endogenous neurotransmitter). You will enter the following variables\n",
    "\n",
    "- Doses of Drug A (enter up to 10 doses)\n",
    "\n",
    "- A single dose of Drug B\n",
    "\n",
    "- Affinties of each drug for a common target receptor (KdA and KdB)\n",
    "\n",
    "- Efficacies of each drug at its target receptor (EA and EB)\n",
    "\n",
    "- Receptor number in the biological system (Rt)\n",
    "\n",
    "- Transduction efficiency for receptor signaling in the biological system (f)\n",
    "\n",
    "- Threshold level of Receptor Activation required for effect detection in the assay (T)\n",
    "\n",
    "- Capacity level of Receptor Activation that can be detected in the assay (C)\n",
    "\n",
    "In general, Experiment 1 will show a Drug A dose-effect curve when the dose of Drug B=0. These data can then be compared to simulated data from subsequent experiments that manipulate the dose of Drug B while all other variables stay constant. Data are generated, presented in tables, and graphed using the following formulas:\n",
    "\n",
    "• RA(Dose) determines degree of Receptor Activation RA for given doses A and B as RA=fRt * [(EA*(A/{A+KdA[B/(1+KdB)]}) + [(EB*(B/{B+KdB[A/(1+KdA)]})\n",
    "\n",
    "• Effect(C-T) determines gross effect as %MPE in assay given Threshold T and Ceiling C as Effect=((RA-T)/(C-T))*100\n",
    "\n",
    "• Effect(Assay) sets all values ≤0 to 0 and all values ≥100 to 100\n",
    "Contact\n",
    "\n",
    "For project queries, please email:\n",
    "\n",
    "sidney.negus@vcuhealth.org\n",
    "\n",
    "For technical queries, please email:\n",
    "\n",
    "james.percy@vcuhealth.org\n",
    "\n",
    "## Contact\n",
    "\n",
    "For project queries, please email:\n",
    "\n",
    "sidney.negus@vcuhealth.org\n",
    "\n",
    "For technical queries, please email:\n",
    "\n",
    "james.percy@vcuhealth.org"
   ]
  },
  {
   "cell_type": "code",
   "execution_count": null,
   "id": "d66a0e1a",
   "metadata": {},
   "outputs": [],
   "source": [
    "#EXP1\n",
    "\n",
    "## Set Drug Doses (Multiple doses of A, one dose of B)\n",
    "\n",
    "dose_A = []\n",
    "\n",
    "dose_B = 0"
   ]
  },
  {
   "cell_type": "code",
   "execution_count": null,
   "id": "f884b811",
   "metadata": {},
   "outputs": [],
   "source": [
    "#EXP2\n",
    "\n",
    "## Set Drug Doses (Multiple doses of A, one dose of B)\n",
    "\n",
    "ex2_dose_A = []\n",
    "ex2_dose_B = 0\n"
   ]
  },
  {
   "cell_type": "code",
   "execution_count": null,
   "id": "61fec870",
   "metadata": {},
   "outputs": [],
   "source": [
    "#EXP3\n",
    "\n",
    "## Set Drug Doses (Multiple doses of A, one dose of B)\n",
    "\n",
    "ex3_dose_A = []\n",
    "ex3_dose_B = 0\n"
   ]
  },
  {
   "cell_type": "code",
   "execution_count": null,
   "id": "88ec14c8",
   "metadata": {},
   "outputs": [],
   "source": [
    "#EXP4\n",
    "\n",
    "## Set Drug Doses (Multiple doses of A, one dose of B)\n",
    "\n",
    "ex4_dose_A = []\n",
    "ex4_dose_B = 0\n"
   ]
  },
  {
   "cell_type": "code",
   "execution_count": null,
   "id": "b979a25f",
   "metadata": {},
   "outputs": [],
   "source": [
    "## Run the calculation and render plots\n",
    "\n",
    "%run -i calculate_phase3b.py"
   ]
  }
 ],
 "metadata": {
  "celltoolbar": "Raw Cell Format",
  "kernelspec": {
   "display_name": "Python 3 (ipykernel)",
   "language": "python",
   "name": "python3"
  },
  "language_info": {
   "codemirror_mode": {
    "name": "ipython",
    "version": 3
   },
   "file_extension": ".py",
   "mimetype": "text/x-python",
   "name": "python",
   "nbconvert_exporter": "python",
   "pygments_lexer": "ipython3",
   "version": "3.7.3"
  }
 },
 "nbformat": 4,
 "nbformat_minor": 5
}
