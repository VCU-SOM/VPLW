{
 "cells": [
  {
   "cell_type": "markdown",
   "id": "distinguished-jackson",
   "metadata": {
    "deletable": false,
    "editable": false
   },
   "source": [
    "![VCU](media/VCU_logo.png \"VCU\")\n",
    "\n",
    "## VCU Virtual Pharmacology Lab Worksheet. I. Single-Drug Dose-Effect Curves\n",
    "\n",
    "This module generates a simulated dose-effect curve for a single drug based on data you enter for the following variables:\n",
    "\n",
    "- Doses (enter up to 10 doses)\n",
    "\n",
    "- Drug Affinity for its target receptor (Kd)\n",
    "\n",
    "- Drug Efficacy at its target receptor (E)\n",
    "\n",
    "- Receptor number in the biological system (Rt)\n",
    "\n",
    "- Transduction efficiency for receptor signaling in the biological system (f)\n",
    "\n",
    "- Threshold level of Receptor Activation required for effect detection in the assay (T)\n",
    "\n",
    "- Capacity level of Receptor Activation that can be detected in the assay (C)\n",
    "\n",
    "The simulated data in Experiment 1 can then be compared to simulated data under conditions with other drug variables (Kd, E), other biological-system variables (Rt, f), or other assay variables (C, T). Data are generated, presented in tables, and graphed using the following formulas:\n",
    "\n",
    "• RA(Dose) determines degree of Receptor Activation RA for a given dose A as RA=fRtE*(A/(A+Kd))\n",
    "\n",
    "• Effect(C-T) determines gross effect as %MPE in assay given Threshold T and Ceiling C as Effect=((RA-T)/(C-T))*100\n",
    "\n",
    "• Effect(Assay) sets all values ≤0 to 0 and all values ≥100 to 100\n",
    "\n",
    "## Contact\n",
    "\n",
    "For project queries, please email:\n",
    "\n",
    "sidney.negus@vcuhealth.org\n",
    "\n",
    "For technical queries, please email:\n",
    "\n",
    "james.percy@vcuhealth.org\n"
   ]
  },
  {
   "cell_type": "code",
   "execution_count": null,
   "id": "4d790d99",
   "metadata": {},
   "outputs": [],
   "source": [
    "#EXP1\n",
    "\n",
    "## Set your dose\n",
    "\n",
    "dose = []"
   ]
  },
  {
   "cell_type": "code",
   "execution_count": null,
   "id": "46b8e73f",
   "metadata": {},
   "outputs": [],
   "source": [
    "#EXP2\n",
    "\n",
    "## Set your dose\n",
    "\n",
    "dose2 = []"
   ]
  },
  {
   "cell_type": "code",
   "execution_count": null,
   "id": "fd1a4cbd",
   "metadata": {},
   "outputs": [],
   "source": [
    "#EXP3\n",
    "\n",
    "## Set your dose\n",
    "\n",
    "dose3 = [.01,.32,1,3.2,10,32,100]"
   ]
  },
  {
   "cell_type": "code",
   "execution_count": null,
   "id": "ec797520",
   "metadata": {},
   "outputs": [],
   "source": [
    "#EXP4\n",
    "\n",
    "## Set your dose\n",
    "\n",
    "dose4 = []"
   ]
  },
  {
   "cell_type": "code",
   "execution_count": null,
   "id": "impressive-trauma",
   "metadata": {
    "scrolled": false
   },
   "outputs": [],
   "source": [
    "## Run the calculation and render plots\n",
    "\n",
    "%run -i calculate_phase3.py"
   ]
  }
 ],
 "metadata": {
  "celltoolbar": "Edit Metadata",
  "kernelspec": {
   "display_name": "Python 3 (ipykernel)",
   "language": "python",
   "name": "python3"
  },
  "language_info": {
   "codemirror_mode": {
    "name": "ipython",
    "version": 3
   },
   "file_extension": ".py",
   "mimetype": "text/x-python",
   "name": "python",
   "nbconvert_exporter": "python",
   "pygments_lexer": "ipython3",
   "version": "3.7.3"
  }
 },
 "nbformat": 4,
 "nbformat_minor": 5
}
