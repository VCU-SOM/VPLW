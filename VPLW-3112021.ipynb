{
 "cells": [
  {
   "cell_type": "markdown",
   "id": "distinguished-jackson",
   "metadata": {},
   "source": [
    "## Virtual Pharmacology Lab Worksheet\n",
    "\n",
    "RA(Dose) determines degree of Receptor Activation RA for a give dose A as RA=F*Rt*E*(A/(A+Kd))\n",
    "\n",
    "Effect(C-T) determines gross effect as %MPE in assay given Threshold T and Ceiling C as Effect=((RA-T)/(C-T))*100\n",
    "\n",
    "Effect(Assay) sets all values ≤0 to 0 and all values ≥100 to 100\n"
   ]
  },
  {
   "cell_type": "code",
   "execution_count": null,
   "id": "general-uganda",
   "metadata": {},
   "outputs": [],
   "source": [
    "#EXP1\n",
    "\n",
    "## Set your dose\n",
    "\n",
    "dose = []\n",
    "\n",
    "## Parameters\n",
    "\n",
    "F = 0\n",
    "Rt = 0\n",
    "E = 0\n",
    "Kd = 0\n",
    "threshold = 0\n",
    "capacity = 0"
   ]
  },
  {
   "cell_type": "code",
   "execution_count": null,
   "id": "small-engagement",
   "metadata": {},
   "outputs": [],
   "source": [
    "#EXP2\n",
    "\n",
    "## Set your dose\n",
    "\n",
    "dose2 = []\n",
    "\n",
    "## Parameters\n",
    "\n",
    "ex2_F = 0\n",
    "ex2_Rt = 0\n",
    "ex2_E = 0\n",
    "ex2_Kd = 0\n",
    "ex2_threshold = 0\n",
    "ex2_capacity = 0"
   ]
  },
  {
   "cell_type": "code",
   "execution_count": null,
   "id": "dependent-graduation",
   "metadata": {},
   "outputs": [],
   "source": [
    "#EXP3\n",
    "\n",
    "## Set your dose\n",
    "\n",
    "dose3 = []\n",
    "\n",
    "## Parameters\n",
    "\n",
    "ex3_F = 0\n",
    "ex3_Rt = 0\n",
    "ex3_E = 0\n",
    "ex3_Kd = 0\n",
    "ex3_threshold = 0\n",
    "ex3_capacity = 0"
   ]
  },
  {
   "cell_type": "code",
   "execution_count": null,
   "id": "manual-wheel",
   "metadata": {
    "scrolled": true
   },
   "outputs": [],
   "source": [
    "#EXP4\n",
    "\n",
    "dose4 = []\n",
    "\n",
    "## Parameters\n",
    "\n",
    "ex4_F = 0\n",
    "ex4_Rt = 0\n",
    "ex4_E = 0\n",
    "ex4_Kd = 0\n",
    "ex4_threshold = 0\n",
    "ex4_capacity = 0"
   ]
  },
  {
   "cell_type": "code",
   "execution_count": null,
   "id": "impressive-trauma",
   "metadata": {
    "scrolled": false
   },
   "outputs": [],
   "source": [
    "## Run the calculation and render plots\n",
    "\n",
    "%run -i calculate.py"
   ]
  }
 ],
 "metadata": {
  "kernelspec": {
   "display_name": "Python 3",
   "language": "python",
   "name": "python3"
  },
  "language_info": {
   "codemirror_mode": {
    "name": "ipython",
    "version": 3
   },
   "file_extension": ".py",
   "mimetype": "text/x-python",
   "name": "python",
   "nbconvert_exporter": "python",
   "pygments_lexer": "ipython3",
   "version": "3.7.3"
  }
 },
 "nbformat": 4,
 "nbformat_minor": 5
}
