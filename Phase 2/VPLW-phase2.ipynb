{
 "cells": [
  {
   "cell_type": "code",
   "execution_count": null,
   "id": "dc2ee068",
   "metadata": {},
   "outputs": [],
   "source": [
    "#EXP1\n",
    "\n",
    "## Set Drug Doses (Multiple doses of A, one dose of B)\n",
    "\n",
    "dose_A = []\n",
    "\n",
    "dose_B = 0\n",
    "\n",
    "## Tissue Parameters\n",
    "\n",
    "F = 0\n",
    "Rt = 0\n",
    "\n",
    "## Drug Parameters\n",
    "\n",
    "Ea = 0\n",
    "Ka = 0\n",
    "Eb = 0\n",
    "Kb = 0\n",
    "\n",
    "## Assay Parameters\n",
    "\n",
    "threshold = 0\n",
    "capacity = 0\n"
   ]
  },
  {
   "cell_type": "code",
   "execution_count": null,
   "id": "f884b811",
   "metadata": {},
   "outputs": [],
   "source": [
    "#EXP2\n",
    "\n",
    "## Set your dose Drug A\n",
    "\n",
    "ex2_dose_A = []\n",
    "ex2_dose_B = 0\n",
    "\n",
    "## Tissue Parameters\n",
    "\n",
    "ex2_F = 0\n",
    "ex2_Rt = 0\n",
    "\n",
    "## Drug Parameters\n",
    "\n",
    "ex2_Ea = 0\n",
    "ex2_Ka = 0\n",
    "ex2_Eb = 0\n",
    "ex2_Kb = 0\n",
    "\n",
    "## Assay Parameters\n",
    "\n",
    "ex2_threshold = 0\n",
    "ex2_capacity = 0"
   ]
  },
  {
   "cell_type": "code",
   "execution_count": null,
   "id": "b682c3fb",
   "metadata": {},
   "outputs": [],
   "source": [
    "#EXP3\n",
    "\n",
    "## Set your dose Drug A\n",
    "\n",
    "ex3_dose_A = []\n",
    "ex3_dose_B = 0\n",
    "\n",
    "## Tissue Parameters\n",
    "\n",
    "ex3_F = 0\n",
    "ex3_Rt = 0\n",
    "\n",
    "## Drug Parameters\n",
    "\n",
    "ex3_Ea = 0\n",
    "ex3_Ka = 0\n",
    "ex3_Eb = 0\n",
    "ex3_Kb = 0\n",
    "\n",
    "## Assay Parameters\n",
    "\n",
    "ex3_threshold = 0\n",
    "ex3_capacity = 0"
   ]
  },
  {
   "cell_type": "code",
   "execution_count": null,
   "id": "88ec14c8",
   "metadata": {},
   "outputs": [],
   "source": [
    "#EXP4\n",
    "\n",
    "## Set your dose Drug A\n",
    "\n",
    "ex4_dose_A = []\n",
    "ex4_dose_B = 0\n",
    "\n",
    "## Tissue Parameters\n",
    "\n",
    "ex4_F = 0\n",
    "ex4_Rt = 0\n",
    "\n",
    "## Drug Parameters\n",
    "\n",
    "ex4_Ea = 0\n",
    "ex4_Ka = 0\n",
    "ex4_Eb = 0\n",
    "ex4_Kb = 0\n",
    "\n",
    "## Assay Parameters\n",
    "\n",
    "ex4_threshold = 0\n",
    "ex4_capacity = 0"
   ]
  },
  {
   "cell_type": "code",
   "execution_count": null,
   "id": "b979a25f",
   "metadata": {},
   "outputs": [],
   "source": [
    "## Run the calculation and render plots\n",
    "\n",
    "%run -i calculate_phase2.py"
   ]
  }
 ],
 "metadata": {
  "kernelspec": {
   "display_name": "Python 3 (ipykernel)",
   "language": "python",
   "name": "python3"
  },
  "language_info": {
   "codemirror_mode": {
    "name": "ipython",
    "version": 3
   },
   "file_extension": ".py",
   "mimetype": "text/x-python",
   "name": "python",
   "nbconvert_exporter": "python",
   "pygments_lexer": "ipython3",
   "version": "3.7.3"
  }
 },
 "nbformat": 4,
 "nbformat_minor": 5
}
