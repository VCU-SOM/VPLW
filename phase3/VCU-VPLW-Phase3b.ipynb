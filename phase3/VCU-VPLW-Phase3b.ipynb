{
 "cells": [
  {
   "cell_type": "markdown",
   "id": "791e1e39",
   "metadata": {
    "deletable": false,
    "editable": false
   },
   "source": [
    "![VCU](../media/VCU_logo.png \"VCU\")\n",
    "\n",
    "## VCU Virtual Pharmacology Lab Worksheet. II. Drug Interactions\n",
    "\n",
    "This module generates simulated dose-effect curves resulting from the combination of two ligands here called Drug A and Drug B (either two different drugs, or a drug in combination with basal tone for an endogenous neurotransmitter). You will enter the following variables\n",
    "\n",
    "· Doses of Drug A (enter up to 10 doses)\n",
    "\n",
    "· A single dose of Drug B\n",
    "\n",
    "From the resulting dose-effect curve(s), seek to answer the questions posed by your instructor. \n",
    "\n",
    "## Contact\n",
    "\n",
    "For project queries, please email:\n",
    "\n",
    "sidney.negus@vcuhealth.org\n",
    "\n",
    "For technical queries, please email:\n",
    "\n",
    "james.percy@vcuhealth.org"
   ]
  },
  {
   "cell_type": "code",
   "execution_count": 1,
   "id": "d66a0e1a",
   "metadata": {},
   "outputs": [],
   "source": [
    "#EXP1\n",
    "\n",
    "## Set Drug Doses (Multiple doses of A, one dose of B)\n",
    "\n",
    "dose_A = [.01,.32,1,3.2,10,32,100]\n",
    "\n",
    "dose_B = 0"
   ]
  },
  {
   "cell_type": "code",
   "execution_count": 2,
   "id": "f884b811",
   "metadata": {},
   "outputs": [],
   "source": [
    "#EXP2\n",
    "\n",
    "## Set Drug Doses (Multiple doses of A, one dose of B)\n",
    "\n",
    "ex2_dose_A = []\n",
    "ex2_dose_B = 0\n"
   ]
  },
  {
   "cell_type": "code",
   "execution_count": 3,
   "id": "61fec870",
   "metadata": {},
   "outputs": [],
   "source": [
    "#EXP3\n",
    "\n",
    "## Set Drug Doses (Multiple doses of A, one dose of B)\n",
    "\n",
    "ex3_dose_A = []\n",
    "ex3_dose_B = 0\n"
   ]
  },
  {
   "cell_type": "code",
   "execution_count": 4,
   "id": "88ec14c8",
   "metadata": {},
   "outputs": [],
   "source": [
    "#EXP4\n",
    "\n",
    "## Set Drug Doses (Multiple doses of A, one dose of B)\n",
    "\n",
    "ex4_dose_A = []\n",
    "ex4_dose_B = 0\n"
   ]
  },
  {
   "cell_type": "code",
   "execution_count": 5,
   "id": "b979a25f",
   "metadata": {},
   "outputs": [
    {
     "data": {
      "image/png": "[encoded data removed]",
      "text/plain": [
       "<Figure size 576x360 with 1 Axes>"
      ]
     },
     "metadata": {},
     "output_type": "display_data"
    },
    {
     "name": "stdout",
     "output_type": "stream",
     "text": [
      "EXP1\n"
     ]
    },
    {
     "data": {
      "text/html": [
       "<div>\n",
       "<style scoped>\n",
       "    .dataframe tbody tr th:only-of-type {\n",
       "        vertical-align: middle;\n",
       "    }\n",
       "\n",
       "    .dataframe tbody tr th {\n",
       "        vertical-align: top;\n",
       "    }\n",
       "\n",
       "    .dataframe thead th {\n",
       "        text-align: right;\n",
       "    }\n",
       "</style>\n",
       "<table border=\"1\" class=\"dataframe\">\n",
       "  <thead>\n",
       "    <tr style=\"text-align: right;\">\n",
       "      <th></th>\n",
       "      <th>Dose A</th>\n",
       "      <th>log(Dose A)</th>\n",
       "      <th>Effect(Assay)</th>\n",
       "    </tr>\n",
       "  </thead>\n",
       "  <tbody>\n",
       "    <tr>\n",
       "      <th>0</th>\n",
       "      <td>0.01</td>\n",
       "      <td>-2.00</td>\n",
       "      <td>0.99</td>\n",
       "    </tr>\n",
       "    <tr>\n",
       "      <th>1</th>\n",
       "      <td>0.32</td>\n",
       "      <td>-0.49</td>\n",
       "      <td>24.24</td>\n",
       "    </tr>\n",
       "    <tr>\n",
       "      <th>2</th>\n",
       "      <td>1.00</td>\n",
       "      <td>0.00</td>\n",
       "      <td>50.00</td>\n",
       "    </tr>\n",
       "    <tr>\n",
       "      <th>3</th>\n",
       "      <td>3.20</td>\n",
       "      <td>0.51</td>\n",
       "      <td>76.19</td>\n",
       "    </tr>\n",
       "    <tr>\n",
       "      <th>4</th>\n",
       "      <td>10.00</td>\n",
       "      <td>1.00</td>\n",
       "      <td>90.91</td>\n",
       "    </tr>\n",
       "    <tr>\n",
       "      <th>5</th>\n",
       "      <td>32.00</td>\n",
       "      <td>1.51</td>\n",
       "      <td>96.97</td>\n",
       "    </tr>\n",
       "    <tr>\n",
       "      <th>6</th>\n",
       "      <td>100.00</td>\n",
       "      <td>2.00</td>\n",
       "      <td>99.01</td>\n",
       "    </tr>\n",
       "  </tbody>\n",
       "</table>\n",
       "</div>"
      ],
      "text/plain": [
       "   Dose A  log(Dose A)  Effect(Assay)\n",
       "0    0.01        -2.00           0.99\n",
       "1    0.32        -0.49          24.24\n",
       "2    1.00         0.00          50.00\n",
       "3    3.20         0.51          76.19\n",
       "4   10.00         1.00          90.91\n",
       "5   32.00         1.51          96.97\n",
       "6  100.00         2.00          99.01"
      ]
     },
     "metadata": {},
     "output_type": "display_data"
    },
    {
     "name": "stdout",
     "output_type": "stream",
     "text": [
      "EXP2\n"
     ]
    },
    {
     "data": {
      "text/html": [
       "<div>\n",
       "<style scoped>\n",
       "    .dataframe tbody tr th:only-of-type {\n",
       "        vertical-align: middle;\n",
       "    }\n",
       "\n",
       "    .dataframe tbody tr th {\n",
       "        vertical-align: top;\n",
       "    }\n",
       "\n",
       "    .dataframe thead th {\n",
       "        text-align: right;\n",
       "    }\n",
       "</style>\n",
       "<table border=\"1\" class=\"dataframe\">\n",
       "  <thead>\n",
       "    <tr style=\"text-align: right;\">\n",
       "      <th></th>\n",
       "      <th>Dose A</th>\n",
       "      <th>log(Dose A)</th>\n",
       "      <th>Effect(Assay)</th>\n",
       "    </tr>\n",
       "  </thead>\n",
       "  <tbody>\n",
       "  </tbody>\n",
       "</table>\n",
       "</div>"
      ],
      "text/plain": [
       "Empty DataFrame\n",
       "Columns: [Dose A, log(Dose A), Effect(Assay)]\n",
       "Index: []"
      ]
     },
     "metadata": {},
     "output_type": "display_data"
    },
    {
     "name": "stdout",
     "output_type": "stream",
     "text": [
      "EXP3\n"
     ]
    },
    {
     "data": {
      "text/html": [
       "<div>\n",
       "<style scoped>\n",
       "    .dataframe tbody tr th:only-of-type {\n",
       "        vertical-align: middle;\n",
       "    }\n",
       "\n",
       "    .dataframe tbody tr th {\n",
       "        vertical-align: top;\n",
       "    }\n",
       "\n",
       "    .dataframe thead th {\n",
       "        text-align: right;\n",
       "    }\n",
       "</style>\n",
       "<table border=\"1\" class=\"dataframe\">\n",
       "  <thead>\n",
       "    <tr style=\"text-align: right;\">\n",
       "      <th></th>\n",
       "      <th>Dose A</th>\n",
       "      <th>log(Dose A)</th>\n",
       "      <th>Effect(Assay)</th>\n",
       "    </tr>\n",
       "  </thead>\n",
       "  <tbody>\n",
       "  </tbody>\n",
       "</table>\n",
       "</div>"
      ],
      "text/plain": [
       "Empty DataFrame\n",
       "Columns: [Dose A, log(Dose A), Effect(Assay)]\n",
       "Index: []"
      ]
     },
     "metadata": {},
     "output_type": "display_data"
    },
    {
     "name": "stdout",
     "output_type": "stream",
     "text": [
      "EXP4\n"
     ]
    },
    {
     "data": {
      "text/html": [
       "<div>\n",
       "<style scoped>\n",
       "    .dataframe tbody tr th:only-of-type {\n",
       "        vertical-align: middle;\n",
       "    }\n",
       "\n",
       "    .dataframe tbody tr th {\n",
       "        vertical-align: top;\n",
       "    }\n",
       "\n",
       "    .dataframe thead th {\n",
       "        text-align: right;\n",
       "    }\n",
       "</style>\n",
       "<table border=\"1\" class=\"dataframe\">\n",
       "  <thead>\n",
       "    <tr style=\"text-align: right;\">\n",
       "      <th></th>\n",
       "      <th>Dose A</th>\n",
       "      <th>log(Dose A)</th>\n",
       "      <th>Effect(Assay)</th>\n",
       "    </tr>\n",
       "  </thead>\n",
       "  <tbody>\n",
       "  </tbody>\n",
       "</table>\n",
       "</div>"
      ],
      "text/plain": [
       "Empty DataFrame\n",
       "Columns: [Dose A, log(Dose A), Effect(Assay)]\n",
       "Index: []"
      ]
     },
     "metadata": {},
     "output_type": "display_data"
    }
   ],
   "source": [
    "## Run the calculation and render plots\n",
    "\n",
    "%run -i calculate_phase3b.py"
   ]
  },
  {
   "cell_type": "code",
   "execution_count": null,
   "id": "57378bc5",
   "metadata": {},
   "outputs": [],
   "source": []
  }
 ],
 "metadata": {
  "celltoolbar": "Edit Metadata",
  "kernelspec": {
   "display_name": "Python 3 (ipykernel)",
   "language": "python",
   "name": "python3"
  },
  "language_info": {
   "codemirror_mode": {
    "name": "ipython",
    "version": 3
   },
   "file_extension": ".py",
   "mimetype": "text/x-python",
   "name": "python",
   "nbconvert_exporter": "python",
   "pygments_lexer": "ipython3",
   "version": "3.7.3"
  }
 },
 "nbformat": 4,
 "nbformat_minor": 5
}
