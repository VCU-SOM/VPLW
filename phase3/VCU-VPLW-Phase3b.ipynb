{
 "cells": [
  {
   "cell_type": "markdown",
   "id": "791e1e39",
   "metadata": {
    "deletable": false,
    "editable": false
   },
   "source": [
    "![VCU](../media/VCU_logo.png \"VCU\")\n",
    "\n",
    "## VCU Virtual Pharmacology Lab Worksheet. II. Drug Interactions\n",
    "\n",
    "This module generates simulated dose-effect curves resulting from the combination of two ligands here called Drug A and Drug B (either two different drugs, or a drug in combination with basal tone for an endogenous neurotransmitter). You will enter the following variables\n",
    "\n",
    "· Doses of Drug A (enter up to 10 doses)\n",
    "\n",
    "· A single dose of Drug B\n",
    "\n",
    "From the resulting dose-effect curve(s), seek to answer the questions posed by your instructor. \n",
    "\n",
    "## Contact\n",
    "\n",
    "For project queries, please email:\n",
    "\n",
    "sidney.negus@vcuhealth.org\n",
    "\n",
    "For technical queries, please email:\n",
    "\n",
    "james.percy@vcuhealth.org"
   ]
  },
  {
   "cell_type": "code",
   "execution_count": null,
   "id": "d66a0e1a",
   "metadata": {},
   "outputs": [],
   "source": [
    "#EXP1\n",
    "\n",
    "## Set Drug Doses (Multiple doses of A, one dose of B)\n",
    "\n",
    "dose_A = []\n",
    "\n",
    "dose_B = 0"
   ]
  },
  {
   "cell_type": "code",
   "execution_count": null,
   "id": "f884b811",
   "metadata": {},
   "outputs": [],
   "source": [
    "#EXP2\n",
    "\n",
    "## Set Drug Doses (Multiple doses of A, one dose of B)\n",
    "\n",
    "ex2_dose_A = []\n",
    "ex2_dose_B = 0\n"
   ]
  },
  {
   "cell_type": "code",
   "execution_count": null,
   "id": "61fec870",
   "metadata": {},
   "outputs": [],
   "source": [
    "#EXP3\n",
    "\n",
    "## Set Drug Doses (Multiple doses of A, one dose of B)\n",
    "\n",
    "ex3_dose_A = []\n",
    "ex3_dose_B = 0\n"
   ]
  },
  {
   "cell_type": "code",
   "execution_count": null,
   "id": "88ec14c8",
   "metadata": {},
   "outputs": [],
   "source": [
    "#EXP4\n",
    "\n",
    "## Set Drug Doses (Multiple doses of A, one dose of B)\n",
    "\n",
    "ex4_dose_A = []\n",
    "ex4_dose_B = 0\n"
   ]
  },
  {
   "cell_type": "code",
   "execution_count": null,
   "id": "b979a25f",
   "metadata": {},
   "outputs": [],
   "source": [
    "## Run the calculation and render plots\n",
    "\n",
    "%run -i calculate_phase3b.py"
   ]
  }
 ],
 "metadata": {
  "celltoolbar": "Edit Metadata",
  "kernelspec": {
   "display_name": "Python 3 (ipykernel)",
   "language": "python",
   "name": "python3"
  },
  "language_info": {
   "codemirror_mode": {
    "name": "ipython",
    "version": 3
   },
   "file_extension": ".py",
   "mimetype": "text/x-python",
   "name": "python",
   "nbconvert_exporter": "python",
   "pygments_lexer": "ipython3",
   "version": "3.7.12"
  }
 },
 "nbformat": 4,
 "nbformat_minor": 5
}
