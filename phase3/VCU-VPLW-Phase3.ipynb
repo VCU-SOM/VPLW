{
 "cells": [
  {
   "cell_type": "markdown",
   "id": "distinguished-jackson",
   "metadata": {
    "deletable": false,
    "editable": false
   },
   "source": [
    "![VCU](media/VCU_logo.png \"VCU\")\n",
    "\n",
    "## VCU Virtual Pharmacology Lab Worksheet. III. Single-Drug Dose-Effect Curves\n",
    "\n",
    "This module generates up to four simulated dose-effect curves based on data you enter for the following variables:\n",
    "\n",
    "· Doses (enter up to 10 doses)\n",
    "\n",
    "From the resulting dose-effect curve(s), seek to answer the questions posed by your instructor. \n",
    "\n",
    "## Contact\n",
    "\n",
    "For project queries, please email:\n",
    "\n",
    "sidney.negus@vcuhealth.org\n",
    "\n",
    "For technical queries, please email:\n",
    "\n",
    "james.percy@vcuhealth.org\n"
   ]
  },
  {
   "cell_type": "code",
   "execution_count": null,
   "id": "4d790d99",
   "metadata": {},
   "outputs": [],
   "source": [
    "#EXP1\n",
    "\n",
    "## Set your dose\n",
    "\n",
    "dose = []"
   ]
  },
  {
   "cell_type": "code",
   "execution_count": null,
   "id": "46b8e73f",
   "metadata": {},
   "outputs": [],
   "source": [
    "#EXP2\n",
    "\n",
    "## Set your dose\n",
    "\n",
    "dose2 = []"
   ]
  },
  {
   "cell_type": "code",
   "execution_count": null,
   "id": "fd1a4cbd",
   "metadata": {},
   "outputs": [],
   "source": [
    "#EXP3\n",
    "\n",
    "## Set your dose\n",
    "\n",
    "dose3 = []"
   ]
  },
  {
   "cell_type": "code",
   "execution_count": null,
   "id": "ec797520",
   "metadata": {},
   "outputs": [],
   "source": [
    "#EXP4\n",
    "\n",
    "## Set your dose\n",
    "\n",
    "dose4 = []"
   ]
  },
  {
   "cell_type": "code",
   "execution_count": null,
   "id": "impressive-trauma",
   "metadata": {
    "scrolled": false
   },
   "outputs": [],
   "source": [
    "## Run the calculation and render plots\n",
    "\n",
    "%run -i calculate_phase3.py"
   ]
  }
 ],
 "metadata": {
  "celltoolbar": "Edit Metadata",
  "kernelspec": {
   "display_name": "Python 3 (ipykernel)",
   "language": "python",
   "name": "python3"
  },
  "language_info": {
   "codemirror_mode": {
    "name": "ipython",
    "version": 3
   },
   "file_extension": ".py",
   "mimetype": "text/x-python",
   "name": "python",
   "nbconvert_exporter": "python",
   "pygments_lexer": "ipython3",
   "version": "3.7.3"
  }
 },
 "nbformat": 4,
 "nbformat_minor": 5
}
